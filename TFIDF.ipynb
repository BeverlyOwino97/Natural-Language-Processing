{
 "cells": [
  {
   "cell_type": "code",
   "execution_count": 11,
   "metadata": {},
   "outputs": [],
   "source": [
    "import pandas as pd\n",
    "import numpy as np"
   ]
  },
  {
   "cell_type": "code",
   "execution_count": 12,
   "metadata": {},
   "outputs": [],
   "source": [
    "doc1 = [\"We're only gettin' older, baby\", \n",
    "        \"And I've been thinkin' about it lately\", \n",
    "        \"Does it ever drive you crazy\"]\n",
    "\n",
    "doc2 = [\"Just how fast the night changes?\", \n",
    "        \"Everything that you've ever dreamed of\",\n",
    "        \"Disappearing when you wake up\"]\n",
    "        \n",
    "doc3 = [\"But there's nothing to be afraid of\", \n",
    "        \"Even when the night changes\", \n",
    "        \"It will never change me and you\"]\n"
   ]
  },
  {
   "cell_type": "code",
   "execution_count": 13,
   "metadata": {},
   "outputs": [
    {
     "name": "stdout",
     "output_type": "stream",
     "text": [
      "[\"we're\", 'only', \"gettin'\", 'older', 'baby', 'and', \"i've\", 'been', \"thinkin'\", 'about', 'it', 'lately', 'does', 'it', 'ever', 'drive', 'you', 'crazy']\n",
      "\n",
      " ['just', 'how', 'fast', 'the', 'night', 'changes?', 'everything', 'that', \"you've\", 'ever', 'dreamed', 'of', 'disappearing', 'when', 'you', 'wake', 'up']\n",
      "\n",
      " ['but', \"there's\", 'nothing', 'to', 'be', 'afraid', 'of', 'even', 'when', 'the', 'night', 'changes', 'it', 'will', 'never', 'change', 'me', 'and', 'you']\n"
     ]
    }
   ],
   "source": [
    "#Create tokens\n",
    "doc1_tokens = sum([doc.lower().replace(',', '').replace('.', '').split() for doc in doc1], [])\n",
    "doc2_tokens = sum([doc.lower().replace(',', '').replace('.', '').split() for doc in doc2], [])\n",
    "doc3_tokens = sum([doc.lower().replace(',', '').replace('.', '').split() for doc in doc3], [])\n",
    "\n",
    "print(doc1_tokens)\n",
    "print('\\n', doc2_tokens)\n",
    "print('\\n', doc3_tokens)"
   ]
  },
  {
   "cell_type": "code",
   "execution_count": 14,
   "metadata": {},
   "outputs": [
    {
     "name": "stdout",
     "output_type": "stream",
     "text": [
      "{'only', 'about', 'ever', 'does', 'older', 'drive', \"thinkin'\", 'crazy', 'baby', \"gettin'\", \"i've\", 'lately', \"we're\", 'been'}\n",
      "{'disappearing', 'night', 'ever', 'dreamed', 'everything', 'that', 'fast', 'how', 'up', 'changes?', 'wake', \"you've\"}\n",
      "{'even', 'never', 'change', \"there's\", 'will', 'afraid', 'nothing', 'night', 'changes', 'but', 'be'}\n"
     ]
    }
   ],
   "source": [
    "stopwords = ['a', 'the', 'i', 'me', 'myself', 'our', 'ourself', 'you', 'is', 'to', 'then', 'what', 'their', 'are', 'your', \n",
    "             'for', 'my', 'as', 'which', 'just', 'can', 'and', 'in', 'of', 'am', 'when', 'there', 'at', 'it', 'if']\n",
    "\n",
    "doc1_tokens = set(doc1_tokens) - set(stopwords)\n",
    "doc2_tokens = set(doc2_tokens) - set(stopwords)\n",
    "doc3_tokens = set(doc3_tokens) - set(stopwords)\n",
    "\n",
    "print(doc1_tokens)\n",
    "print(doc2_tokens)\n",
    "print(doc3_tokens)"
   ]
  },
  {
   "cell_type": "code",
   "execution_count": 15,
   "metadata": {},
   "outputs": [
    {
     "name": "stdout",
     "output_type": "stream",
     "text": [
      "{'only', 'about', 'disappearing', 'does', 'change', 'but', 'drive', 'will', 'afraid', 'nothing', 'that', 'changes?', 'wake', 'changes', 'night', 'ever', 'dreamed', 'never', \"there's\", 'older', 'everything', \"thinkin'\", 'fast', 'crazy', 'baby', \"gettin'\", \"i've\", 'lately', 'how', 'up', \"we're\", 'been', 'even', \"you've\", 'be'}\n"
     ]
    }
   ],
   "source": [
    "unique_tokens = set(doc1_tokens).union(set(doc2_tokens)).union(set(doc3_tokens))\n",
    "\n",
    "print(unique_tokens)"
   ]
  },
  {
   "cell_type": "code",
   "execution_count": 16,
   "metadata": {},
   "outputs": [
    {
     "name": "stdout",
     "output_type": "stream",
     "text": [
      "{'only': 1, 'about': 1, 'disappearing': 0, 'does': 1, 'change': 0, 'but': 0, 'drive': 1, 'will': 0, 'afraid': 0, 'nothing': 0, 'that': 0, 'changes?': 0, 'wake': 0, 'changes': 0, 'night': 0, 'ever': 1, 'dreamed': 0, 'never': 0, \"there's\": 0, 'older': 1, 'everything': 0, \"thinkin'\": 1, 'fast': 0, 'crazy': 1, 'baby': 1, \"gettin'\": 1, \"i've\": 1, 'lately': 1, 'how': 0, 'up': 0, \"we're\": 1, 'been': 1, 'even': 0, \"you've\": 0, 'be': 0}\n",
      "\n",
      " {'only': 0, 'about': 0, 'disappearing': 1, 'does': 0, 'change': 0, 'but': 0, 'drive': 0, 'will': 0, 'afraid': 0, 'nothing': 0, 'that': 1, 'changes?': 1, 'wake': 1, 'changes': 0, 'night': 1, 'ever': 1, 'dreamed': 1, 'never': 0, \"there's\": 0, 'older': 0, 'everything': 1, \"thinkin'\": 0, 'fast': 1, 'crazy': 0, 'baby': 0, \"gettin'\": 0, \"i've\": 0, 'lately': 0, 'how': 1, 'up': 1, \"we're\": 0, 'been': 0, 'even': 0, \"you've\": 1, 'be': 0}\n",
      "\n",
      " {'only': 0, 'about': 0, 'disappearing': 0, 'does': 0, 'change': 1, 'but': 1, 'drive': 0, 'will': 1, 'afraid': 1, 'nothing': 1, 'that': 0, 'changes?': 0, 'wake': 0, 'changes': 1, 'night': 1, 'ever': 0, 'dreamed': 0, 'never': 1, \"there's\": 1, 'older': 0, 'everything': 0, \"thinkin'\": 0, 'fast': 0, 'crazy': 0, 'baby': 0, \"gettin'\": 0, \"i've\": 0, 'lately': 0, 'how': 0, 'up': 0, \"we're\": 0, 'been': 0, 'even': 1, \"you've\": 0, 'be': 1}\n"
     ]
    }
   ],
   "source": [
    "count_doc1 = dict.fromkeys(unique_tokens, 0)\n",
    "for token in doc1_tokens:\n",
    "    count_doc1[token] += 1\n",
    "    \n",
    "count_doc2 = dict.fromkeys(unique_tokens, 0)\n",
    "for token in doc2_tokens:\n",
    "    count_doc2[token] += 1\n",
    "    \n",
    "count_doc3 = dict.fromkeys(unique_tokens, 0)\n",
    "for token in doc3_tokens:\n",
    "    count_doc3[token] += 1\n",
    "    \n",
    "print(count_doc1)\n",
    "print('\\n', count_doc2)\n",
    "print('\\n', count_doc3)"
   ]
  },
  {
   "cell_type": "code",
   "execution_count": 20,
   "metadata": {},
   "outputs": [
    {
     "name": "stdout",
     "output_type": "stream",
     "text": [
      "{'only': 0.07142857142857142, 'about': 0.07142857142857142, 'disappearing': 0.0, 'does': 0.07142857142857142, 'change': 0.0, 'but': 0.0, 'drive': 0.07142857142857142, 'will': 0.0, 'afraid': 0.0, 'nothing': 0.0, 'that': 0.0, 'changes?': 0.0, 'wake': 0.0, 'changes': 0.0, 'night': 0.0, 'ever': 0.07142857142857142, 'dreamed': 0.0, 'never': 0.0, \"there's\": 0.0, 'older': 0.07142857142857142, 'everything': 0.0, \"thinkin'\": 0.07142857142857142, 'fast': 0.0, 'crazy': 0.07142857142857142, 'baby': 0.07142857142857142, \"gettin'\": 0.07142857142857142, \"i've\": 0.07142857142857142, 'lately': 0.07142857142857142, 'how': 0.0, 'up': 0.0, \"we're\": 0.07142857142857142, 'been': 0.07142857142857142, 'even': 0.0, \"you've\": 0.0, 'be': 0.0}\n",
      "\n",
      " {'only': 0.0, 'about': 0.0, 'disappearing': 0.08333333333333333, 'does': 0.0, 'change': 0.0, 'but': 0.0, 'drive': 0.0, 'will': 0.0, 'afraid': 0.0, 'nothing': 0.0, 'that': 0.08333333333333333, 'changes?': 0.08333333333333333, 'wake': 0.08333333333333333, 'changes': 0.0, 'night': 0.08333333333333333, 'ever': 0.08333333333333333, 'dreamed': 0.08333333333333333, 'never': 0.0, \"there's\": 0.0, 'older': 0.0, 'everything': 0.08333333333333333, \"thinkin'\": 0.0, 'fast': 0.08333333333333333, 'crazy': 0.0, 'baby': 0.0, \"gettin'\": 0.0, \"i've\": 0.0, 'lately': 0.0, 'how': 0.08333333333333333, 'up': 0.08333333333333333, \"we're\": 0.0, 'been': 0.0, 'even': 0.0, \"you've\": 0.08333333333333333, 'be': 0.0}\n",
      "\n",
      " {'only': 0.0, 'about': 0.0, 'disappearing': 0.0, 'does': 0.0, 'change': 0.09090909090909091, 'but': 0.09090909090909091, 'drive': 0.0, 'will': 0.09090909090909091, 'afraid': 0.09090909090909091, 'nothing': 0.09090909090909091, 'that': 0.0, 'changes?': 0.0, 'wake': 0.0, 'changes': 0.09090909090909091, 'night': 0.09090909090909091, 'ever': 0.0, 'dreamed': 0.0, 'never': 0.09090909090909091, \"there's\": 0.09090909090909091, 'older': 0.0, 'everything': 0.0, \"thinkin'\": 0.0, 'fast': 0.0, 'crazy': 0.0, 'baby': 0.0, \"gettin'\": 0.0, \"i've\": 0.0, 'lately': 0.0, 'how': 0.0, 'up': 0.0, \"we're\": 0.0, 'been': 0.0, 'even': 0.09090909090909091, \"you've\": 0.0, 'be': 0.09090909090909091}\n"
     ]
    }
   ],
   "source": [
    "#create tf\n",
    "def calculate_tf(count_doc, doc_tokens):\n",
    "    tf = dict()\n",
    "    for token, count in count_doc.items():\n",
    "        tf[token] = count / float(len(doc_tokens))\n",
    "    return tf\n",
    "    \n",
    "tf1 = calculate_tf(count_doc=count_doc1, doc_tokens=doc1_tokens)\n",
    "tf2 = calculate_tf(count_doc=count_doc2, doc_tokens=doc2_tokens)\n",
    "tf3 = calculate_tf(count_doc=count_doc3, doc_tokens=doc3_tokens)\n",
    "\n",
    "print(tf1)\n",
    "print('\\n', tf2)\n",
    "print('\\n', tf3)"
   ]
  },
  {
   "cell_type": "code",
   "execution_count": 21,
   "metadata": {},
   "outputs": [
    {
     "name": "stdout",
     "output_type": "stream",
     "text": [
      "{'only': 1.0986122886681098, 'about': 1.0986122886681098, 'disappearing': 1.0986122886681098, 'does': 1.0986122886681098, 'change': 1.0986122886681098, 'but': 1.0986122886681098, 'drive': 1.0986122886681098, 'will': 1.0986122886681098, 'afraid': 1.0986122886681098, 'nothing': 1.0986122886681098, 'that': 1.0986122886681098, 'changes?': 1.0986122886681098, 'wake': 1.0986122886681098, 'changes': 1.0986122886681098, 'night': 0.4054651081081644, 'ever': 0.4054651081081644, 'dreamed': 1.0986122886681098, 'never': 1.0986122886681098, \"there's\": 1.0986122886681098, 'older': 1.0986122886681098, 'everything': 1.0986122886681098, \"thinkin'\": 1.0986122886681098, 'fast': 1.0986122886681098, 'crazy': 1.0986122886681098, 'baby': 1.0986122886681098, \"gettin'\": 1.0986122886681098, \"i've\": 1.0986122886681098, 'lately': 1.0986122886681098, 'how': 1.0986122886681098, 'up': 1.0986122886681098, \"we're\": 1.0986122886681098, 'been': 1.0986122886681098, 'even': 1.0986122886681098, \"you've\": 1.0986122886681098, 'be': 1.0986122886681098}\n"
     ]
    }
   ],
   "source": [
    "#idf calculation\n",
    "\n",
    "def calculate_idf(doc_counts):\n",
    "    idf = dict.fromkeys(doc_counts[0].keys(), 0)\n",
    "    for doc in doc_counts: \n",
    "        for token, count in doc.items():\n",
    "            if count!=0:\n",
    "                idf[token] += 1\n",
    "                \n",
    "    for token, count in idf.items():\n",
    "        idf[token] = math.log(len(doc_counts) / float(count))\n",
    "       \n",
    "    return idf\n",
    "\n",
    "idf = calculate_idf([count_doc1, count_doc2, count_doc3])\n",
    "print(idf)"
   ]
  },
  {
   "cell_type": "code",
   "execution_count": 22,
   "metadata": {},
   "outputs": [],
   "source": [
    "def calculate_tfidf(tf, idf):\n",
    "    tfidf = dict()\n",
    "    for token, count in tf.items():\n",
    "        tfidf[token] = count * idf[token]\n",
    "    return tfidf"
   ]
  },
  {
   "cell_type": "code",
   "execution_count": 23,
   "metadata": {},
   "outputs": [],
   "source": [
    "tfidf1 = calculate_tfidf(tf1, idf)\n",
    "tfidf2 = calculate_tfidf(tf2, idf)\n",
    "tfidf3 = calculate_tfidf(tf3, idf)"
   ]
  },
  {
   "cell_type": "code",
   "execution_count": 24,
   "metadata": {},
   "outputs": [
    {
     "data": {
      "text/html": [
       "<div>\n",
       "<style scoped>\n",
       "    .dataframe tbody tr th:only-of-type {\n",
       "        vertical-align: middle;\n",
       "    }\n",
       "\n",
       "    .dataframe tbody tr th {\n",
       "        vertical-align: top;\n",
       "    }\n",
       "\n",
       "    .dataframe thead th {\n",
       "        text-align: right;\n",
       "    }\n",
       "</style>\n",
       "<table border=\"1\" class=\"dataframe\">\n",
       "  <thead>\n",
       "    <tr style=\"text-align: right;\">\n",
       "      <th></th>\n",
       "      <th>only</th>\n",
       "      <th>about</th>\n",
       "      <th>disappearing</th>\n",
       "      <th>does</th>\n",
       "      <th>change</th>\n",
       "      <th>but</th>\n",
       "      <th>drive</th>\n",
       "      <th>will</th>\n",
       "      <th>afraid</th>\n",
       "      <th>nothing</th>\n",
       "      <th>...</th>\n",
       "      <th>gettin'</th>\n",
       "      <th>i've</th>\n",
       "      <th>lately</th>\n",
       "      <th>how</th>\n",
       "      <th>up</th>\n",
       "      <th>we're</th>\n",
       "      <th>been</th>\n",
       "      <th>even</th>\n",
       "      <th>you've</th>\n",
       "      <th>be</th>\n",
       "    </tr>\n",
       "  </thead>\n",
       "  <tbody>\n",
       "    <tr>\n",
       "      <th>0</th>\n",
       "      <td>0.078472</td>\n",
       "      <td>0.078472</td>\n",
       "      <td>0.000000</td>\n",
       "      <td>0.078472</td>\n",
       "      <td>0.000000</td>\n",
       "      <td>0.000000</td>\n",
       "      <td>0.078472</td>\n",
       "      <td>0.000000</td>\n",
       "      <td>0.000000</td>\n",
       "      <td>0.000000</td>\n",
       "      <td>...</td>\n",
       "      <td>0.078472</td>\n",
       "      <td>0.078472</td>\n",
       "      <td>0.078472</td>\n",
       "      <td>0.000000</td>\n",
       "      <td>0.000000</td>\n",
       "      <td>0.078472</td>\n",
       "      <td>0.078472</td>\n",
       "      <td>0.000000</td>\n",
       "      <td>0.000000</td>\n",
       "      <td>0.000000</td>\n",
       "    </tr>\n",
       "    <tr>\n",
       "      <th>1</th>\n",
       "      <td>0.000000</td>\n",
       "      <td>0.000000</td>\n",
       "      <td>0.091551</td>\n",
       "      <td>0.000000</td>\n",
       "      <td>0.000000</td>\n",
       "      <td>0.000000</td>\n",
       "      <td>0.000000</td>\n",
       "      <td>0.000000</td>\n",
       "      <td>0.000000</td>\n",
       "      <td>0.000000</td>\n",
       "      <td>...</td>\n",
       "      <td>0.000000</td>\n",
       "      <td>0.000000</td>\n",
       "      <td>0.000000</td>\n",
       "      <td>0.091551</td>\n",
       "      <td>0.091551</td>\n",
       "      <td>0.000000</td>\n",
       "      <td>0.000000</td>\n",
       "      <td>0.000000</td>\n",
       "      <td>0.091551</td>\n",
       "      <td>0.000000</td>\n",
       "    </tr>\n",
       "    <tr>\n",
       "      <th>2</th>\n",
       "      <td>0.000000</td>\n",
       "      <td>0.000000</td>\n",
       "      <td>0.000000</td>\n",
       "      <td>0.000000</td>\n",
       "      <td>0.099874</td>\n",
       "      <td>0.099874</td>\n",
       "      <td>0.000000</td>\n",
       "      <td>0.099874</td>\n",
       "      <td>0.099874</td>\n",
       "      <td>0.099874</td>\n",
       "      <td>...</td>\n",
       "      <td>0.000000</td>\n",
       "      <td>0.000000</td>\n",
       "      <td>0.000000</td>\n",
       "      <td>0.000000</td>\n",
       "      <td>0.000000</td>\n",
       "      <td>0.000000</td>\n",
       "      <td>0.000000</td>\n",
       "      <td>0.099874</td>\n",
       "      <td>0.000000</td>\n",
       "      <td>0.099874</td>\n",
       "    </tr>\n",
       "  </tbody>\n",
       "</table>\n",
       "<p>3 rows × 35 columns</p>\n",
       "</div>"
      ],
      "text/plain": [
       "       only     about  disappearing      does    change       but     drive  \\\n",
       "0  0.078472  0.078472      0.000000  0.078472  0.000000  0.000000  0.078472   \n",
       "1  0.000000  0.000000      0.091551  0.000000  0.000000  0.000000  0.000000   \n",
       "2  0.000000  0.000000      0.000000  0.000000  0.099874  0.099874  0.000000   \n",
       "\n",
       "       will    afraid   nothing  ...   gettin'      i've    lately       how  \\\n",
       "0  0.000000  0.000000  0.000000  ...  0.078472  0.078472  0.078472  0.000000   \n",
       "1  0.000000  0.000000  0.000000  ...  0.000000  0.000000  0.000000  0.091551   \n",
       "2  0.099874  0.099874  0.099874  ...  0.000000  0.000000  0.000000  0.000000   \n",
       "\n",
       "         up     we're      been      even    you've        be  \n",
       "0  0.000000  0.078472  0.078472  0.000000  0.000000  0.000000  \n",
       "1  0.091551  0.000000  0.000000  0.000000  0.091551  0.000000  \n",
       "2  0.000000  0.000000  0.000000  0.099874  0.000000  0.099874  \n",
       "\n",
       "[3 rows x 35 columns]"
      ]
     },
     "execution_count": 24,
     "metadata": {},
     "output_type": "execute_result"
    }
   ],
   "source": [
    "tfidf_df = pd.DataFrame([tfidf1, tfidf2, tfidf3])\n",
    "tfidf_df"
   ]
  },
  {
   "cell_type": "code",
   "execution_count": null,
   "metadata": {},
   "outputs": [],
   "source": []
  }
 ],
 "metadata": {
  "kernelspec": {
   "display_name": "Python 3",
   "language": "python",
   "name": "python3"
  },
  "language_info": {
   "codemirror_mode": {
    "name": "ipython",
    "version": 3
   },
   "file_extension": ".py",
   "mimetype": "text/x-python",
   "name": "python",
   "nbconvert_exporter": "python",
   "pygments_lexer": "ipython3",
   "version": "3.7.10"
  }
 },
 "nbformat": 4,
 "nbformat_minor": 2
}
